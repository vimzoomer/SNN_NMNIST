{
 "cells": [
  {
   "cell_type": "code",
   "id": "c945b024-7228-4d72-b3c3-f60ef07d438f",
   "metadata": {},
   "source": [
    "import torch\n",
    "from torch.utils.data import DataLoader\n",
    "import lava.lib.dl.slayer as slayer\n",
    "from main import NMNIST, SNN, augment"
   ],
   "outputs": [],
   "execution_count": null
  },
  {
   "cell_type": "code",
   "id": "798a5cc8-ab6f-4838-ad64-405a7cdabe39",
   "metadata": {},
   "source": [
    "dir = '.'\n",
    "nmnist = NMNIST(dir, 1, 300, download=True, transform=augment)\n",
    "nmnist_test = NMNIST(dir, 1, 300, train=False)"
   ],
   "outputs": [],
   "execution_count": null
  },
  {
   "cell_type": "code",
   "id": "e85cca1379e4428f",
   "metadata": {
    "collapsed": false,
    "jupyter": {
     "outputs_hidden": false
    }
   },
   "source": [
    "device = torch.device('cpu')\n",
    "\n",
    "model = SNN()\n",
    "#state_dict = torch.load('network.pt')\n",
    "#model.load_state_dict(state_dict)\n",
    "\n",
    "net = model.to(device)\n",
    "\n",
    "optimizer = torch.optim.Adam(net.parameters(), lr=0.001)\n",
    "\n",
    "nmnist_loader = DataLoader(\n",
    "    dataset=nmnist, batch_size=32, shuffle=True\n",
    ")\n",
    "\n",
    "nmnist_test_loader = DataLoader(\n",
    "    dataset=nmnist, batch_size=32, shuffle=True\n",
    ")\n",
    "\n",
    "error = slayer.loss.SpikeRate(\n",
    "    true_rate=0.2, false_rate=0.03, reduction='sum'\n",
    ").to(device)\n",
    "\n",
    "stats = slayer.utils.LearningStats()\n",
    "assistant = slayer.utils.Assistant(\n",
    "    net, error, optimizer, stats,\n",
    "    classifier=slayer.classifier.Rate.predict\n",
    ")\n",
    "\n",
    "epochs = 2\n",
    "\n",
    "for epoch in range(epochs):\n",
    "    for i, (input, label) in enumerate(nmnist_loader):\n",
    "        output = assistant.train(input, label)\n",
    "        header = [\n",
    "            'TRAIN\\n' +\n",
    "            'Output : ' + str(output[0].sum(dim=1) / output[0].sum()),\n",
    "            'Label : ' + str(label[0])\n",
    "        ]\n",
    "        stats.print(epoch, iter=i, header=header, dataloader=nmnist_loader)\n",
    "\n",
    "    for i, (input, label) in enumerate(nmnist_test_loader):\n",
    "        output = assistant.test(input, label)\n",
    "        header = [\n",
    "            'TEST\\n' +\n",
    "            'Output : ' + str(output[0].sum(dim=1) / output[0].sum()),\n",
    "            'Label : ' + str(label[0])\n",
    "        ]\n",
    "        stats.print(epoch, iter=i, header=header, dataloader=nmnist_loader)\n",
    "\n",
    "    torch.save(net.state_dict(), dir + '/network.pt')\n",
    "\n",
    "    stats.update()"
   ],
   "outputs": [],
   "execution_count": null
  },
  {
   "cell_type": "code",
   "id": "ae6d16b557e3e807",
   "metadata": {
    "collapsed": false,
    "jupyter": {
     "outputs_hidden": false
    }
   },
   "source": [
    "model = SNN()\n",
    "state_dict = torch.load('network.pt')\n",
    "model.load_state_dict(state_dict)"
   ],
   "outputs": [],
   "execution_count": null
  },
  {
   "cell_type": "markdown",
   "id": "69e5b76a9d00e8ed",
   "metadata": {
    "collapsed": false,
    "jupyter": {
     "outputs_hidden": false
    }
   },
   "source": []
  },
  {
   "cell_type": "code",
   "id": "7059e0bb72e99f5f",
   "metadata": {
    "collapsed": false,
    "jupyter": {
     "outputs_hidden": false
    }
   },
   "source": "nmnist_test.example_of_each_class(model, 4)",
   "outputs": [],
   "execution_count": null
  }
 ],
 "metadata": {
  "kernelspec": {
   "display_name": "Python 3 (ipykernel)",
   "language": "python",
   "name": "python3"
  },
  "language_info": {
   "codemirror_mode": {
    "name": "ipython",
    "version": 3
   },
   "file_extension": ".py",
   "mimetype": "text/x-python",
   "name": "python",
   "nbconvert_exporter": "python",
   "pygments_lexer": "ipython3",
   "version": "3.10.2"
  }
 },
 "nbformat": 4,
 "nbformat_minor": 5
}
